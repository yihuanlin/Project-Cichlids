{
 "cells": [
  {
   "cell_type": "markdown",
   "metadata": {},
   "source": [
    "### Requirements\n",
    "`./Install_rMATS`\n",
    "\n",
    "Then set kernal of this Jupter Notebook to Python in the created Conda environment"
   ]
  },
  {
   "cell_type": "raw",
   "metadata": {
    "vscode": {
     "languageId": "raw"
    }
   },
   "source": [
    "  --allow-clipping      Allow alignments with soft or hard clipping to be used\n",
    "  --readLength READLENGTH\n",
    "                        The length of each read. Required parameter, with the\n",
    "                        value set according to the RNA-seq read length\n",
    "  --variable-read-length\n",
    "                        Allow reads with lengths that differ from --readLength\n",
    "                        to be processed. --readLength will still be used to\n",
    "                        determine IncFormLen and SkipFormLen\n",
    "  --novelSS             Enable detection of novel splice sites (unannotated\n",
    "                        splice sites). Default is no detection of novel splice\n",
    "                        sites\n",
    "  --individual-counts   Output individualCounts.[AS_Event].txt files and add\n",
    "                        the individual count columns to [AS_Event].MATS.JC.txt\n",
    "  -t {paired,single}    Type of read used in the analysis: either \"paired\" for\n",
    "                        paired-end data or \"single\" for single-end data.\n",
    "                        Default: paired\n",
    "  --task {prep,post,both,inte,stat}\n",
    "                        Specify which step(s) of rMATS-turbo to run. Default:\n",
    "                        both. prep: preprocess BAM files and generate .rmats\n",
    "                        files. post: load .rmats files into memory, detect and\n",
    "                        count alternative splicing events, and calculate P\n",
    "                        value (if not --statoff). both: prep + post. inte\n",
    "                        (integrity): check that the BAM filenames recorded by\n",
    "                        the prep task(s) match the BAM filenames for the\n",
    "                        current command line. stat: run statistical test on\n",
    "                        existing output files\n",
    "  --statoff             Skip the statistical analysis\n",
    "  --paired-stats        Use the paired stats model\n",
    "  --darts-model         Use the DARTS statistical model\n"
   ]
  },
  {
   "cell_type": "code",
   "execution_count": 1,
   "metadata": {},
   "outputs": [
    {
     "name": "stdout",
     "output_type": "stream",
     "text": [
      "Read length: 150\n"
     ]
    }
   ],
   "source": [
    "import subprocess\n",
    "\n",
    "command = 'BAM_FILE=\"bam/AC_1K_rep1.markdup.sorted.bam\"; MAX_READS=10000; samtools view \"${BAM_FILE}\" | head -n \"${MAX_READS}\" | awk \\'{print length($10)}\\' | sort -n | awk \\' { a[i++]=$1; } END { print a[int(i/2)]; }\\''\n",
    "\n",
    "result = subprocess.run(command, shell=True, capture_output=True, text=True)\n",
    "readLength = result.stdout.strip()\n",
    "print(f\"Read length: {readLength}\")"
   ]
  },
  {
   "cell_type": "code",
   "execution_count": null,
   "metadata": {},
   "outputs": [
    {
     "name": "stdout",
     "output_type": "stream",
     "text": [
      "gtf: 12.282406091690063\n",
      "There are 33341 distinct gene ID in the gtf file\n",
      "There are 86856 distinct transcript ID in the gtf file\n",
      "There are 17393 one-transcript genes in the gtf file\n",
      "There are 1054286 exons in the gtf file\n",
      "There are 4912 one-exon transcripts in the gtf file\n",
      "There are 4655 one-transcript genes with only one exon in the transcript\n",
      "Average number of transcripts per gene is 2.605081\n",
      "Average number of exons per transcript is 12.138321\n",
      "Average number of exons per transcript excluding one-exon tx is 12.805989\n",
      "Average number of gene per geneGroup is 9.035350\n",
      "statistic: 0.010347366333007812\n",
      "\n",
      "read outcome totals across all BAMs\n",
      "USED: 262922989\n",
      "NOT_PAIRED: 28127088\n",
      "NOT_NH_1: 66973728\n",
      "NOT_EXPECTED_CIGAR: 14236209\n",
      "NOT_EXPECTED_READ_LENGTH: 0\n",
      "NOT_EXPECTED_STRAND: 0\n",
      "EXON_NOT_MATCHED_TO_ANNOTATION: 25941011\n",
      "JUNCTION_NOT_MATCHED_TO_ANNOTATION: 6855035\n",
      "CLIPPED: 43577804\n",
      "total: 448633864\n",
      "outcomes by BAM written to: scratch/seq/rmats_tmp/2024-11-13-15_19_25_247454_read_outcomes_by_bam.txt\n",
      "\n",
      "novel: 314.6480722427368\n",
      "The splicing graph and candidate read have been saved into scratch/seq/rmats_tmp/2024-11-13-15_19_25_247454_*.rmats\n",
      "save: 5.828232765197754\n"
     ]
    },
    {
     "name": "stderr",
     "output_type": "stream",
     "text": [
      "WARNING: A .rmats file was found with no bams listed in it. Ignoring that file: scratch/seq/rmats_tmp/2024-11-13-15_16_27_123185_0.rmats\n",
      "WARNING: A .rmats file was found with no bams listed in it. Ignoring that file: scratch/seq/rmats_tmp/2024-11-13-15_19_00_397688_0.rmats\n"
     ]
    },
    {
     "name": "stdout",
     "output_type": "stream",
     "text": [
      "loadsg: 0.19528770446777344\n",
      "\n",
      "==========\n",
      "Done processing each gene from dictionary to compile AS events\n",
      "Found 27107 exon skipping events\n",
      "Found 3117 exon MX events\n",
      "Found 13136 alt SS events\n",
      "There are 5990 alt 3 SS events and 7146 alt 5 SS events.\n",
      "Found 3983 RI events\n",
      "==========\n",
      "\n",
      "ase: 1.3347179889678955\n",
      "count: 9.571367025375366\n",
      "Processing count files.\n",
      "Done processing count files.\n"
     ]
    },
    {
     "data": {
      "text/plain": [
       "CompletedProcess(args=['python', 'rmats-turbo/rmats.py', '--b1', 'AC.rmats.txt', '--b2', 'TM.rmats.txt', '--gtf', 'scratch/seq/genome/Astatotilapia_calliptera.fAstCal1.3.112.gtf', '--variable-read-length', '--readLength', '150', '--nthread', '64', '--od', 'scratch/seq/rmats_output', '--tmp', 'scratch/seq/rmats_tmp'], returncode=0)"
      ]
     },
     "execution_count": 4,
     "metadata": {},
     "output_type": "execute_result"
    }
   ],
   "source": [
    "import subprocess\n",
    "\n",
    "command = [\n",
    "    \"python\", \"rmats-turbo/rmats.py\",\n",
    "    \"--b1\", \"rmats/AC.rmats.txt\",\n",
    "    \"--b2\", \"rmats/TM.rmats.txt\",\n",
    "    \"--gtf\", \"genome/Astatotilapia_calliptera.fAstCal1.3.112.gtf\",\n",
    "    # \"--variable-read-length\",\n",
    "    \"--readLength\", readLength,\n",
    "    \"--nthread\", \"64\",\n",
    "    \"--od\", \"rmats/rmats_output\",\n",
    "    \"--tmp\", \"rmats/rmats_tmp\"\n",
    "]\n",
    "\n",
    "subprocess.run(command)"
   ]
  }
 ],
 "metadata": {
  "kernelspec": {
   "display_name": "bio",
   "language": "python",
   "name": "python3"
  },
  "language_info": {
   "codemirror_mode": {
    "name": "ipython",
    "version": 3
   },
   "file_extension": ".py",
   "mimetype": "text/x-python",
   "name": "python",
   "nbconvert_exporter": "python",
   "pygments_lexer": "ipython3",
   "version": "3.12.8"
  }
 },
 "nbformat": 4,
 "nbformat_minor": 2
}
