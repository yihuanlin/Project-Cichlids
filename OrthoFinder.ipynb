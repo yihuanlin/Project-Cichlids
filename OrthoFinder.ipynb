{
 "cells": [
  {
   "cell_type": "code",
   "execution_count": null,
   "metadata": {},
   "outputs": [
    {
     "name": "stdout",
     "output_type": "stream",
     "text": [
      "['Astatotilapia_calliptera.fAstCal1.3.pep.all.fa.gz']\n",
      "['Maylandia_zebra.M_zebra_UMD2a.pep.all.fa.gz']\n",
      "['Oreochromis_niloticus.O_niloticus_UMD_NMBU.pep.all.fa.gz']\n",
      "['Danio_rerio.GRCz11.pep.all.fa.gz']\n",
      "['Amphilophus_citrinellus.Midas_v5.pep.all.fa.gz']\n",
      "['Pundamilia_nyererei.PunNye1.0.pep.all.fa.gz']\n",
      "['Haplochromis_burtoni.AstBur1.0.pep.all.fa.gz']\n",
      "['Neolamprologus_brichardi.NeoBri1.0.pep.all.fa.gz']\n",
      "['Oryzias_latipes.ASM223467v1.pep.all.fa.gz']\n"
     ]
    }
   ],
   "source": [
    "import os\n",
    "import re\n",
    "import requests\n",
    "import subprocess\n",
    "\n",
    "species_list = [\"Astatotilapia calliptera\", \"Maylandia zebra\", \"Oreochromis niloticus\", \"Danio rerio\", \"Amphilophus citrinellus\", \"Pundamilia nyererei\", \"Haplochromis burtoni\", \"Neolamprologus brichardi\", \"Oryzias latipes\"]\n",
    "\n",
    "os.makedirs('pep', exist_ok=True)\n",
    "for species in species_list:\n",
    "    species = species.replace(' ', '_').lower()\n",
    "    response = requests.get(f\"https://ftp.ensembl.org/pub/current_fasta/{species}/pep/\")\n",
    "    genome = re.findall(r'href=\"([^\"]+\\.pep\\.all\\.fa\\.gz)\"', response.text)\n",
    "    print(genome)\n",
    "    if genome:\n",
    "        genome_file = genome[0]\n",
    "        genome_path = os.path.join('pep/', genome_file)\n",
    "        if not os.path.isfile(genome_path):\n",
    "            dna_url = f\"https://ftp.ensembl.org/pub/current_fasta/{species}/pep/{genome_file}\"\n",
    "            response = requests.get(dna_url)\n",
    "            with open(genome_path, 'wb') as f:\n",
    "                f.write(response.content)\n",
    "        unzip_path = genome_path.replace('.gz', '')\n",
    "        if not os.path.isfile(unzip_path):\n",
    "            subprocess.run(['gunzip', '-k', genome_path])"
   ]
  },
  {
   "cell_type": "code",
   "execution_count": null,
   "metadata": {},
   "outputs": [
    {
     "name": "stdout",
     "output_type": "stream",
     "text": [
      "\n",
      "OrthoFinder version 2.5.5 Copyright (C) 2014 David Emms\n",
      "\n",
      "2024-11-20 11:44:31 : Starting OrthoFinder 2.5.5\n",
      "14 thread(s) for highly parallel tasks (BLAST searches etc.)\n",
      "1 thread(s) for OrthoFinder algorithm\n",
      "\n",
      "Checking required programs are installed\n",
      "----------------------------------------\n",
      "Test can run \"mcl -h\" - ok\n",
      "Test can run \"fastme -i /Users/home/Downloads/Project-Cichlids/pep/OrthoFinder/Results_Nov20/WorkingDirectory/dependencies/SimpleTest.phy -o /Users/home/Downloads/Project-Cichlids/pep/OrthoFinder/Results_Nov20/WorkingDirectory/dependencies/SimpleTest.tre\" - ok\n",
      "\n",
      "WARNING: Files have been ignored as they don't appear to be FASTA files:\n",
      ".DS_Store\n",
      "Amphilophus_citrinellus.Midas_v5.pep.all.fa.gz\n",
      "Astatotilapia_calliptera.fAstCal1.3.pep.all.fa.gz\n",
      "Danio_rerio.GRCz11.pep.all.fa.gz\n",
      "Haplochromis_burtoni.AstBur1.0.pep.all.fa.gz\n",
      "Maylandia_zebra.M_zebra_UMD2a.pep.all.fa.gz\n",
      "Neolamprologus_brichardi.NeoBri1.0.pep.all.fa.gz\n",
      "Oreochromis_niloticus.O_niloticus_UMD_NMBU.pep.all.fa.gz\n",
      "Oryzias_latipes.ASM223467v1.pep.all.fa.gz\n",
      "Pundamilia_nyererei.PunNye1.0.pep.all.fa.gz\n",
      "OrthoFinder expects FASTA files to have one of the following extensions: pep, fas, fa, fasta, faa\n",
      "\n",
      "Dividing up work for BLAST for parallel processing\n",
      "--------------------------------------------------\n",
      "2024-11-20 11:44:33 : Creating diamond database 1 of 9\n",
      "2024-11-20 11:44:33 : Creating diamond database 2 of 9\n",
      "2024-11-20 11:44:33 : Creating diamond database 3 of 9\n",
      "2024-11-20 11:44:33 : Creating diamond database 4 of 9\n",
      "2024-11-20 11:44:33 : Creating diamond database 5 of 9\n",
      "2024-11-20 11:44:33 : Creating diamond database 6 of 9\n",
      "2024-11-20 11:44:34 : Creating diamond database 7 of 9\n",
      "2024-11-20 11:44:34 : Creating diamond database 8 of 9\n",
      "2024-11-20 11:44:34 : Creating diamond database 9 of 9\n",
      "\n",
      "Running diamond all-versus-all\n",
      "------------------------------\n",
      "Using 14 thread(s)\n",
      "2024-11-20 11:44:34 : This may take some time....\n",
      "2024-11-20 11:44:34 : Done 0 of 81\n",
      "2024-11-20 12:08:02 : Done 10 of 81\n",
      "2024-11-20 12:24:15 : Done 20 of 81\n",
      "2024-11-20 12:39:22 : Done 30 of 81\n",
      "2024-11-20 12:45:21 : Done 40 of 81\n"
     ]
    }
   ],
   "source": [
    "subprocess.run([\"orthofinder\", \"-f\", \"pep\"])"
   ]
  }
 ],
 "metadata": {
  "kernelspec": {
   "display_name": "osx64",
   "language": "python",
   "name": "python3"
  },
  "language_info": {
   "codemirror_mode": {
    "name": "ipython",
    "version": 3
   },
   "file_extension": ".py",
   "mimetype": "text/x-python",
   "name": "python",
   "nbconvert_exporter": "python",
   "pygments_lexer": "ipython3",
   "version": "3.9.19"
  }
 },
 "nbformat": 4,
 "nbformat_minor": 2
}
